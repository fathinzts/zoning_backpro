{
 "cells": [
  {
   "cell_type": "code",
   "execution_count": 1,
   "id": "former-schedule",
   "metadata": {},
   "outputs": [],
   "source": [
    "import cv2 as cv\n",
    "import numpy as np\n",
    "import pandas as pd\n",
    "from numpy.linalg import inv\n",
    "import math\n",
    "import csv\n",
    "from sklearn.model_selection import train_test_split\n",
    "import time \n",
    "import matplotlib.pyplot as plt"
   ]
  },
  {
   "cell_type": "code",
   "execution_count": 2,
   "id": "4927fbce",
   "metadata": {},
   "outputs": [],
   "source": [
    "# Create matrix\n",
    "A = np.array([   \n",
    "    [2, 0, 0, 0],\n",
    "    [2, 2, 0, 0],\n",
    "    [3, 2, 1, 1],\n",
    "    [3, 2, 1, 1],\n",
    "])"
   ]
  },
  {
   "cell_type": "code",
   "execution_count": 3,
   "id": "expanded-drawing",
   "metadata": {},
   "outputs": [],
   "source": [
    "def GLCM00(dataset):\n",
    "    a,b = np.shape(dataset)\n",
    "    matriks = np.zeros((np.max(dataset)+1, np.max(dataset)+1))  \n",
    "    for i in range(a):\n",
    "        for j in range(b-1):\n",
    "            matriks[dataset[i][j],dataset[i][j+1]] = matriks[dataset[i][j],dataset[i][j+1]]+1\n",
    "            matriks[dataset[i][j+1],dataset[i][j]] = matriks[dataset[i][j+1],dataset[i][j]]+1\n",
    "    return matriks\n",
    "\n",
    "def GLCM45(dataset):\n",
    "    a,b = np.shape(dataset)\n",
    "    matriks = np.zeros((np.max(dataset)+1, np.max(dataset)+1))  \n",
    "    for i in range(a-1):\n",
    "        for j in range(b-1):\n",
    "            matriks[dataset[i+1][j],dataset[i][j+1]] = matriks[dataset[i+1][j],dataset[i][j+1]]+1\n",
    "            matriks[dataset[i][j+1],dataset[i+1][j]] = matriks[dataset[i][j+1],dataset[i+1][j]]+1\n",
    "    return matriks\n",
    "\n",
    "def GLCM90(dataset):\n",
    "    a,b = np.shape(dataset)\n",
    "    matriks = np.zeros((np.max(dataset)+1,np.max(dataset)+1))\n",
    "    for i in range(a-1):\n",
    "        for j in range(b):\n",
    "            matriks[dataset[i+1][j],dataset[i][j]] = matriks[dataset[i+1][j],dataset[i][j]]+1\n",
    "            matriks[dataset[i][j],dataset[i+1][j]] = matriks[dataset[i][j],dataset[i+1][j]]+1\n",
    "    return matriks\n",
    "\n",
    "def GLCM135(dataset):\n",
    "    a,b = np.shape(dataset)\n",
    "    matriks = np.zeros((np.max(dataset)+1, np.max(dataset)+1))  \n",
    "    for i in range(a-1):\n",
    "        for j in range(b-1):\n",
    "            matriks[dataset[i+1][j+1],dataset[i][j]] = matriks[dataset[i+1][j+1],dataset[i][j]]+1\n",
    "            matriks[dataset[i][j],dataset[i+1][j+1]] = matriks[dataset[i][j],dataset[i+1][j+1]]+1\n",
    "    return matriks\n",
    "\n",
    "def NormalizeGLCM(dataset):\n",
    "    return dataset/sum(sum(dataset))"
   ]
  },
  {
   "cell_type": "code",
   "execution_count": 4,
   "id": "b70373ba",
   "metadata": {},
   "outputs": [
    {
     "name": "stdout",
     "output_type": "stream",
     "text": [
      "[[6. 0. 2. 0.]\n",
      " [0. 4. 2. 0.]\n",
      " [2. 2. 2. 2.]\n",
      " [0. 0. 2. 0.]]\n",
      "[[2. 1. 3. 0.]\n",
      " [1. 2. 1. 0.]\n",
      " [3. 1. 0. 2.]\n",
      " [0. 0. 2. 0.]]\n",
      "[[4. 2. 1. 0.]\n",
      " [2. 4. 0. 0.]\n",
      " [1. 0. 6. 1.]\n",
      " [0. 0. 1. 2.]]\n",
      "[[4. 1. 0. 0.]\n",
      " [1. 2. 2. 0.]\n",
      " [0. 2. 4. 1.]\n",
      " [0. 0. 1. 0.]]\n"
     ]
    }
   ],
   "source": [
    "transponse_matrix_A = [GLCM00(A), GLCM45(A), GLCM90(A), GLCM135(A)]\n",
    "normalize_transponse_matrix_A = []\n",
    "for matrix in transponse_matrix_A:\n",
    "    normalize_transponse_matrix_A.append(NormalizeGLCM(matrix))\n",
    "    print(matrix)\n"
   ]
  },
  {
   "cell_type": "code",
   "execution_count": 5,
   "id": "9470bea1",
   "metadata": {},
   "outputs": [
    {
     "name": "stdout",
     "output_type": "stream",
     "text": [
      "[[0.25       0.         0.08333333 0.        ]\n",
      " [0.         0.16666667 0.08333333 0.        ]\n",
      " [0.08333333 0.08333333 0.08333333 0.08333333]\n",
      " [0.         0.         0.08333333 0.        ]]\n",
      "[[0.11111111 0.05555556 0.16666667 0.        ]\n",
      " [0.05555556 0.11111111 0.05555556 0.        ]\n",
      " [0.16666667 0.05555556 0.         0.11111111]\n",
      " [0.         0.         0.11111111 0.        ]]\n",
      "[[0.16666667 0.08333333 0.04166667 0.        ]\n",
      " [0.08333333 0.16666667 0.         0.        ]\n",
      " [0.04166667 0.         0.25       0.04166667]\n",
      " [0.         0.         0.04166667 0.08333333]]\n",
      "[[0.22222222 0.05555556 0.         0.        ]\n",
      " [0.05555556 0.11111111 0.11111111 0.        ]\n",
      " [0.         0.11111111 0.22222222 0.05555556]\n",
      " [0.         0.         0.05555556 0.        ]]\n"
     ]
    }
   ],
   "source": [
    "for matrix in normalize_transponse_matrix_A:\n",
    "    print(matrix)\n"
   ]
  },
  {
   "cell_type": "code",
   "execution_count": 6,
   "id": "03e514a3",
   "metadata": {},
   "outputs": [],
   "source": [
    "# validate\n",
    "def Contrast(dataset):\n",
    "    kontras=0\n",
    "    for i in range(len(dataset)):\n",
    "        for j in range(len(dataset)):\n",
    "            kontras += (i-j)**2 * dataset[i][j]\n",
    "    return kontras\n"
   ]
  },
  {
   "cell_type": "code",
   "execution_count": 7,
   "id": "b95c332a",
   "metadata": {},
   "outputs": [
    {
     "name": "stdout",
     "output_type": "stream",
     "text": [
      "1.0\n",
      "1.777777777777778\n",
      "0.5833333333333333\n",
      "0.4444444444444444\n"
     ]
    }
   ],
   "source": [
    "for matrix in normalize_transponse_matrix_A:\n",
    "    print(Contrast(matrix))"
   ]
  },
  {
   "cell_type": "code",
   "execution_count": 8,
   "id": "3826ba50",
   "metadata": {},
   "outputs": [],
   "source": [
    "def Entropy(dataset):\n",
    "    entropi=0\n",
    "    for i in range(len(dataset)):\n",
    "        for j in range(len(dataset)):\n",
    "            if dataset[i,j] != 0.0:\n",
    "                if dataset[i][j] >0:\n",
    "                    entropi+=-dataset[i][j]*math.log(dataset[i][j],10)\n",
    "                else:\n",
    "                    entropi += 0\n",
    "    return entropi"
   ]
  },
  {
   "cell_type": "code",
   "execution_count": 9,
   "id": "e5b7ec8a",
   "metadata": {},
   "outputs": [
    {
     "name": "stdout",
     "output_type": "stream",
     "text": [
      "0.9097292664237122\n",
      "0.9624409776794269\n",
      "0.9097292664237121\n",
      "0.887346954847329\n"
     ]
    }
   ],
   "source": [
    "for matrix in normalize_transponse_matrix_A:\n",
    "    print(Entropy(matrix))"
   ]
  },
  {
   "cell_type": "code",
   "execution_count": 10,
   "id": "95ed215f",
   "metadata": {},
   "outputs": [],
   "source": [
    "def Homogenity(dataset):\n",
    "    homogeniti=0\n",
    "    for i in range(len(dataset)):\n",
    "        for j in range(len(dataset)):\n",
    "            homogeniti += dataset[i][j] / (1 + np.power(i - j, 2))\n",
    "    return homogeniti"
   ]
  },
  {
   "cell_type": "code",
   "execution_count": 11,
   "id": "f543c963",
   "metadata": {},
   "outputs": [
    {
     "name": "stdout",
     "output_type": "stream",
     "text": [
      "0.7\n",
      "0.5111111111111112\n",
      "0.8083333333333335\n",
      "0.7777777777777778\n"
     ]
    }
   ],
   "source": [
    "for matrix in normalize_transponse_matrix_A:\n",
    "    print(Homogenity(matrix))"
   ]
  },
  {
   "cell_type": "code",
   "execution_count": 23,
   "id": "8ccc885f",
   "metadata": {},
   "outputs": [],
   "source": [
    "def Correlation(dataset):\n",
    "    korelasi=0\n",
    "    M=0\n",
    "    T=0\n",
    "    for i in range(len(dataset)):\n",
    "        M += i * dataset[i]\n",
    "    sum_M = sum(M)\n",
    "    \n",
    "    for i in range(len(dataset)):\n",
    "        T += dataset[i] * (i-sum_M)**2\n",
    "    sum_T =  sum(T)\n",
    "    \n",
    "    for i in range(len(dataset)):\n",
    "        for j in range(len(dataset)):\n",
    "            korelasi += dataset[i][j] *  (i-sum_M) * (j-sum_M) / sum_T**2\n",
    "    return korelasi"
   ]
  },
  {
   "cell_type": "code",
   "execution_count": 24,
   "id": "c7941fe0",
   "metadata": {},
   "outputs": [
    {
     "name": "stdout",
     "output_type": "stream",
     "text": [
      "0.49959183673469393\n",
      "0.15332612222823147\n",
      "0.6919044261303622\n",
      "0.8758650519031145\n"
     ]
    }
   ],
   "source": [
    "for matrix in normalize_transponse_matrix_A:\n",
    "    print(Correlation(matrix))"
   ]
  },
  {
   "cell_type": "code",
   "execution_count": 39,
   "id": "dc323b6d",
   "metadata": {},
   "outputs": [],
   "source": [
    "def Variance(dataset):\n",
    "    var=0\n",
    "    M=0\n",
    "   \n",
    "    for i in range(len(dataset)):\n",
    "        M += i * dataset[i]\n",
    "    sum_M = sum(M)\n",
    "    \n",
    "    for i in range(len(dataset)):\n",
    "        for j in range(len(dataset)):\n",
    "            var += np.power((i-sum_M),2) * dataset[i][j]\n",
    "    return var"
   ]
  },
  {
   "cell_type": "code",
   "execution_count": 40,
   "id": "a3a1255e",
   "metadata": {},
   "outputs": [
    {
     "name": "stdout",
     "output_type": "stream",
     "text": [
      "0.9722222222222222\n",
      "1.0617283950617282\n",
      "1.0399305555555554\n",
      "0.8395061728395061\n"
     ]
    }
   ],
   "source": [
    "for matrix in normalize_transponse_matrix_A:\n",
    "    print(Variance(matrix))"
   ]
  },
  {
   "cell_type": "code",
   "execution_count": 15,
   "id": "d4e7ad1f",
   "metadata": {},
   "outputs": [],
   "source": [
    "def SumVariance(dataset):\n",
    "    print(dataset)\n",
    "    sent=0\n",
    "    svar=0\n",
    "    for i in range(len(dataset)):\n",
    "        for j in range(len(dataset)):\n",
    "            if dataset[i][j] >0:\n",
    "                sent+= (dataset[i][j]*math.log(dataset[i][j]))\n",
    "            else:\n",
    "                sent += 0\n",
    "    sent = -sent\n",
    "    return sent\n",
    "    for i in range(len(dataset)):\n",
    "        for j in range(len(dataset)):\n",
    "            svar+= i-(pow(sent, 2))\n",
    "    return svar"
   ]
  },
  {
   "cell_type": "code",
   "execution_count": 16,
   "id": "8f57b90e",
   "metadata": {},
   "outputs": [],
   "source": [
    "def DifferenceVariance(dataset):\n",
    "    diffvar=0\n",
    "    for x in range(len(dataset)):\n",
    "        for y in range(len(dataset)):\n",
    "            pass\n"
   ]
  },
  {
   "cell_type": "code",
   "execution_count": 17,
   "id": "74dc9016",
   "metadata": {},
   "outputs": [],
   "source": [
    "dataframe = {\n",
    "    'contrast_00' : [],\n",
    "    'contrast_45' : [],\n",
    "    'contrast_90' : [],\n",
    "    'contrast_135' : [],\n",
    "    'corellation_00' : [],\n",
    "    'corellation_45' : [],\n",
    "    'corellation_90' : [],\n",
    "    'corellation_135' : [],\n",
    "    'homogeneity_00' : [],\n",
    "    'homogeneity_45' : [],\n",
    "    'homogeneity_90' : [],\n",
    "    'homogeneity_135' : [],\n",
    "    'entropy_00' : [],\n",
    "    'entropy_45' : [],\n",
    "    'entropy_90' : [],\n",
    "    'entropy_135' : [],\n",
    "    'variance_00' : [],\n",
    "    'variance_45' : [],\n",
    "    'variance_90' : [],\n",
    "    'variance_135' : [],\n",
    "    'sum_variance_00' : [],\n",
    "    'sum_variance_45' : [],\n",
    "    'sum_variance_90' : [],\n",
    "    'sum_variance_135' : [],\n",
    "    'different_variance_00' : [],\n",
    "    'different_variance_45' : [],\n",
    "    'different_variance_90' : [],\n",
    "    'different_variance_135' : [],\n",
    "}"
   ]
  }
 ],
 "metadata": {
  "kernelspec": {
   "display_name": "Python 3",
   "language": "python",
   "name": "python3"
  },
  "language_info": {
   "codemirror_mode": {
    "name": "ipython",
    "version": 3
   },
   "file_extension": ".py",
   "mimetype": "text/x-python",
   "name": "python",
   "nbconvert_exporter": "python",
   "pygments_lexer": "ipython3",
   "version": "3.8.8"
  }
 },
 "nbformat": 4,
 "nbformat_minor": 5
}
