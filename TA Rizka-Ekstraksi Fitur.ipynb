{
 "cells": [
  {
   "cell_type": "code",
   "execution_count": 1,
   "id": "2a75288b",
   "metadata": {},
   "outputs": [],
   "source": [
    "import os\n",
    "from PIL import Image, ImageOps\n",
    "import pandas as pd \n",
    "import cv2\n",
    "from skimage.feature import greycomatrix, greycoprops"
   ]
  },
  {
   "cell_type": "code",
   "execution_count": 17,
   "id": "fc507810",
   "metadata": {},
   "outputs": [],
   "source": [
    "dataset_path = r'coba'"
   ]
  },
  {
   "cell_type": "code",
   "execution_count": 2,
   "id": "4005742d",
   "metadata": {},
   "outputs": [],
   "source": [
    "#Dataset path\n",
    "dataset_path ={\n",
    "    '32':\n",
    "    {\n",
    "        'a': \"contoh dataset rizka/32/a\",\n",
    "        'ba': \"contoh dataset rizka/32/ba\",\n",
    "        'ca': \"contoh dataset rizka/32/ca\"\n",
    "    },\n",
    "    '64':\n",
    "    {\n",
    "        'a': \"contoh dataset rizka/64/a\",\n",
    "        'ba': \"contoh dataset rizka/64/ba\",\n",
    "        'ca': \"contoh dataset rizka/64/ca\"\n",
    "    },\n",
    "    '128':\n",
    "    {\n",
    "        'a': \"contoh dataset rizka/128/a\",\n",
    "        'ba': \"contoh dataset rizka/128/ba\",\n",
    "        'ca': \"contoh dataset rizka/128/ca\"\n",
    "    }\n",
    "}"
   ]
  },
  {
   "cell_type": "markdown",
   "id": "ba3d6041",
   "metadata": {},
   "source": [
    "Preprocessing"
   ]
  },
  {
   "cell_type": "code",
   "execution_count": 3,
   "id": "d40a0ff3",
   "metadata": {},
   "outputs": [],
   "source": [
    "#1. Cropping (Manual)"
   ]
  },
  {
   "cell_type": "code",
   "execution_count": 4,
   "id": "13c71ac4",
   "metadata": {},
   "outputs": [],
   "source": [
    "#2. Resize\n",
    "#32x32\n",
    "def Resize32(images_folder_path):\n",
    "    for filename in os.listdir(images_folder_path):\n",
    "        newimg = os.path.join(images_folder_path, filename)\n",
    "        img = Image.open(newimg)\n",
    "        img = img.resize((32,32))\n",
    "        img.save(newimg)\n",
    "#64x64\n",
    "def Resize64(images_folder_path):\n",
    "    for filename in os.listdir(images_folder_path):\n",
    "        newimg = os.path.join(images_folder_path, filename)\n",
    "        img = Image.open(newimg)\n",
    "        img = img.resize((64,64))\n",
    "        img.save(newimg)\n",
    "#128x128\n",
    "def Resize128(images_folder_path):\n",
    "    for filename in os.listdir(images_folder_path):\n",
    "        newimg = os.path.join(images_folder_path, filename)\n",
    "        img = Image.open(newimg)\n",
    "        img = img.resize((128,128))\n",
    "        img.save(newimg)"
   ]
  },
  {
   "cell_type": "code",
   "execution_count": 5,
   "id": "a7c83b6a",
   "metadata": {},
   "outputs": [],
   "source": [
    "Resize32(dataset_path['32']['a'])\n",
    "Resize32(dataset_path['32']['ba'])\n",
    "Resize32(dataset_path['32']['ca'])"
   ]
  },
  {
   "cell_type": "code",
   "execution_count": 6,
   "id": "dbd4940e",
   "metadata": {},
   "outputs": [],
   "source": [
    "Resize64(dataset_path['64']['a'])\n",
    "Resize64(dataset_path['64']['ba'])\n",
    "Resize64(dataset_path['64']['ca'])"
   ]
  },
  {
   "cell_type": "code",
   "execution_count": 7,
   "id": "9bd867a6",
   "metadata": {},
   "outputs": [],
   "source": [
    "Resize128(dataset_path['128']['a'])\n",
    "Resize128(dataset_path['128']['ba'])\n",
    "Resize128(dataset_path['128']['ca'])"
   ]
  },
  {
   "cell_type": "code",
   "execution_count": 9,
   "id": "9263e446",
   "metadata": {},
   "outputs": [],
   "source": [
    "#3. Convert to GRAYSCALE\n",
    "def Grayscale(img):\n",
    "    fGr = img[:,:,0]\n",
    "    fgr = np.mean(np.mean(fGr))\n",
    "    abu=fgr/255\n",
    "    return abu"
   ]
  },
  {
   "cell_type": "code",
   "execution_count": 18,
   "id": "2b8d4244",
   "metadata": {},
   "outputs": [],
   "source": [
    "def Binary(img):\n",
    "    openimg = cv2.imread(img)\n",
    "    binerimg = cv2.cvtColor(openimg, cv2.THRESH_BINARY_INV)\n",
    "    return binerimg"
   ]
  },
  {
   "cell_type": "code",
   "execution_count": 13,
   "id": "9a59adbf",
   "metadata": {},
   "outputs": [],
   "source": [
    "def ConvertToGR(images_folder_path):\n",
    "    for filename in os.listdir(images_folder_path):\n",
    "        newimg = os.path.join(images_folder_path, filename)\n",
    "        img = Image.open(newimg)\n",
    "        img = ImageOps.Binary(img)\n",
    "        img.save(newimg)"
   ]
  },
  {
   "cell_type": "code",
   "execution_count": 25,
   "id": "a90255b2",
   "metadata": {},
   "outputs": [],
   "source": [
    "def cobabiner(images_folder_path):\n",
    "    for filename in os.listdir(images_folder_path):\n",
    "        newimg = os.path.join(images_folder_path, filename)\n",
    "        img = Image.open(newimg)\n",
    "        inverted_image = ImageOps.invert(img)\n",
    "        inverted_image.save(newimg)"
   ]
  },
  {
   "cell_type": "code",
   "execution_count": 27,
   "id": "5cf4cb36",
   "metadata": {},
   "outputs": [],
   "source": [
    "def cobaBiner2(images_folder_path):\n",
    "    for filename in os.listdir(images_folder_path):\n",
    "        newimg = os.path.join(images_folder_path, filename)\n",
    "        img = Image.open(newimg)\n",
    "        img = ImageOps.Binary(img,cv2.THRESH_BINARY)\n",
    "        img.save(newimg)"
   ]
  },
  {
   "cell_type": "code",
   "execution_count": 35,
   "id": "dfc150cd",
   "metadata": {},
   "outputs": [],
   "source": [
    "def cobaBiner2(images_folder_path):\n",
    "    for filename in os.listdir(images_folder_path):\n",
    "        newimg = os.path.join(images_folder_path, filename)\n",
    "        img = cv2.imread(newimg)\n",
    "        grimg = cv2.cvtColor(img,cv2.THRESH_BINARY)\n",
    "        cv2.imwrite(images_folder_path,grimg)\n",
    "#         img.save(newimg)"
   ]
  },
  {
   "cell_type": "code",
   "execution_count": 36,
   "id": "eab08a70",
   "metadata": {},
   "outputs": [
    {
     "ename": "error",
     "evalue": "OpenCV(4.0.1) C:\\ci\\opencv-suite_1573470242804\\work\\modules\\imgcodecs\\src\\loadsave.cpp:662: error: (-2:Unspecified error) could not find a writer for the specified extension in function 'cv::imwrite_'\n",
     "output_type": "error",
     "traceback": [
      "\u001b[1;31m---------------------------------------------------------------------------\u001b[0m",
      "\u001b[1;31merror\u001b[0m                                     Traceback (most recent call last)",
      "\u001b[1;32m<ipython-input-36-73b0487836c2>\u001b[0m in \u001b[0;36m<module>\u001b[1;34m\u001b[0m\n\u001b[1;32m----> 1\u001b[1;33m \u001b[0mcobaBiner2\u001b[0m\u001b[1;33m(\u001b[0m\u001b[0mdataset_path\u001b[0m\u001b[1;33m)\u001b[0m\u001b[1;33m\u001b[0m\u001b[1;33m\u001b[0m\u001b[0m\n\u001b[0m",
      "\u001b[1;32m<ipython-input-35-da4f33dbc4cc>\u001b[0m in \u001b[0;36mcobaBiner2\u001b[1;34m(images_folder_path)\u001b[0m\n\u001b[0;32m      4\u001b[0m         \u001b[0mimg\u001b[0m \u001b[1;33m=\u001b[0m \u001b[0mcv2\u001b[0m\u001b[1;33m.\u001b[0m\u001b[0mimread\u001b[0m\u001b[1;33m(\u001b[0m\u001b[0mnewimg\u001b[0m\u001b[1;33m)\u001b[0m\u001b[1;33m\u001b[0m\u001b[1;33m\u001b[0m\u001b[0m\n\u001b[0;32m      5\u001b[0m         \u001b[0mgrimg\u001b[0m \u001b[1;33m=\u001b[0m \u001b[0mcv2\u001b[0m\u001b[1;33m.\u001b[0m\u001b[0mcvtColor\u001b[0m\u001b[1;33m(\u001b[0m\u001b[0mimg\u001b[0m\u001b[1;33m,\u001b[0m\u001b[0mcv2\u001b[0m\u001b[1;33m.\u001b[0m\u001b[0mTHRESH_BINARY\u001b[0m\u001b[1;33m)\u001b[0m\u001b[1;33m\u001b[0m\u001b[1;33m\u001b[0m\u001b[0m\n\u001b[1;32m----> 6\u001b[1;33m         \u001b[0mcv2\u001b[0m\u001b[1;33m.\u001b[0m\u001b[0mimwrite\u001b[0m\u001b[1;33m(\u001b[0m\u001b[0mimages_folder_path\u001b[0m\u001b[1;33m,\u001b[0m\u001b[0mgrimg\u001b[0m\u001b[1;33m)\u001b[0m\u001b[1;33m\u001b[0m\u001b[1;33m\u001b[0m\u001b[0m\n\u001b[0m\u001b[0;32m      7\u001b[0m \u001b[1;31m#         img.save(newimg)\u001b[0m\u001b[1;33m\u001b[0m\u001b[1;33m\u001b[0m\u001b[1;33m\u001b[0m\u001b[0m\n",
      "\u001b[1;31merror\u001b[0m: OpenCV(4.0.1) C:\\ci\\opencv-suite_1573470242804\\work\\modules\\imgcodecs\\src\\loadsave.cpp:662: error: (-2:Unspecified error) could not find a writer for the specified extension in function 'cv::imwrite_'\n"
     ]
    }
   ],
   "source": [
    "cobaBiner2(dataset_path)"
   ]
  },
  {
   "cell_type": "code",
   "execution_count": 26,
   "id": "0811635d",
   "metadata": {},
   "outputs": [],
   "source": [
    "cobabiner(dataset_path)"
   ]
  },
  {
   "cell_type": "code",
   "execution_count": 14,
   "id": "c2076254",
   "metadata": {},
   "outputs": [],
   "source": [
    "ConvertToGR(dataset_path['32']['a'])\n",
    "ConvertToGR(dataset_path['32']['ba'])\n",
    "ConvertToGR(dataset_path['32']['ca'])\n",
    "ConvertToGR(dataset_path['64']['a'])\n",
    "ConvertToGR(dataset_path['64']['ba'])\n",
    "ConvertToGR(dataset_path['64']['ca'])\n",
    "ConvertToGR(dataset_path['128']['a'])\n",
    "ConvertToGR(dataset_path['128']['ba'])\n",
    "ConvertToGR(dataset_path['128']['ca'])"
   ]
  },
  {
   "cell_type": "markdown",
   "id": "b2ce94df",
   "metadata": {},
   "source": [
    "Ekstraksi Fitur"
   ]
  },
  {
   "cell_type": "code",
   "execution_count": 8,
   "id": "f4d2793a",
   "metadata": {},
   "outputs": [],
   "source": [
    "zoning_size = (6,6)"
   ]
  },
  {
   "cell_type": "code",
   "execution_count": null,
   "id": "a2e37c34",
   "metadata": {},
   "outputs": [],
   "source": [
    "def zoning(image, size):\n",
    "    sub_images = []\n",
    "    image_shape = image.shape\n",
    "    image_range = int(image_shape[0]/zoning_size[0])\n",
    "    for i in range(0, image_shape[0], image_range):\n",
    "        for j in range (0, image_shape[1], image_range):\n",
    "            sub_images.append(image[i:i+image_range, j:j+image_range])\n",
    "    return sub_images"
   ]
  },
  {
   "cell_type": "code",
   "execution_count": null,
   "id": "d1dc2f14",
   "metadata": {},
   "outputs": [],
   "source": [
    "zoning_images = []"
   ]
  },
  {
   "cell_type": "code",
   "execution_count": null,
   "id": "07d05564",
   "metadata": {},
   "outputs": [],
   "source": [
    "def CreateDataFrame():\n",
    "    return {\n",
    "        'zoning_images' : []\n",
    "    }\n",
    "dataframe = CreateDataFrame()"
   ]
  },
  {
   "cell_type": "code",
   "execution_count": null,
   "id": "3617e4b7",
   "metadata": {},
   "outputs": [],
   "source": [
    "for image in os.listdir(dataset_path):\n",
    "    filename2 = filename\n",
    "    filename = os.path.join(dataset_path, filename)\n",
    "    img = cv2.imread(filename, 0)\n",
    "#     dataframe['filename'].append(filename2)\n",
    "    dataframe['contrast_00'].append(Contrast(NormalizeGLCM(GLCM00(img))))"
   ]
  },
  {
   "cell_type": "code",
   "execution_count": null,
   "id": "746adfd3",
   "metadata": {},
   "outputs": [],
   "source": []
  }
 ],
 "metadata": {
  "kernelspec": {
   "display_name": "Python 3",
   "language": "python",
   "name": "python3"
  },
  "language_info": {
   "codemirror_mode": {
    "name": "ipython",
    "version": 3
   },
   "file_extension": ".py",
   "mimetype": "text/x-python",
   "name": "python",
   "nbconvert_exporter": "python",
   "pygments_lexer": "ipython3",
   "version": "3.8.8"
  }
 },
 "nbformat": 4,
 "nbformat_minor": 5
}
